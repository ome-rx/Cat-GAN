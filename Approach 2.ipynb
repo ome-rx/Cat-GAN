{
 "cells": [
  {
   "cell_type": "markdown",
   "id": "20578c90-3dd5-4150-b29c-c04e6752d30d",
   "metadata": {},
   "source": [
    "# Import necessary libraries"
   ]
  },
  {
   "cell_type": "code",
   "execution_count": 1,
   "id": "5379538e-07dc-4900-9943-71003cf6e56d",
   "metadata": {},
   "outputs": [],
   "source": [
    "import glob\n",
    "import os\n",
    "import torch\n",
    "import torch.nn as nn\n",
    "import torch.optim as optim\n",
    "from torch.utils.data import Dataset, DataLoader\n",
    "from torchvision import transforms\n",
    "from PIL import Image\n",
    "import numpy as np\n",
    "import matplotlib.pyplot as plt\n",
    "from tqdm import tqdm"
   ]
  },
  {
   "cell_type": "markdown",
   "id": "83cbb9a8-cd59-4394-bcce-c296866225c8",
   "metadata": {},
   "source": [
    "# Create a custom dataset class to load and preprocess the cat images and their annotations"
   ]
  },
  {
   "cell_type": "code",
   "execution_count": 2,
   "id": "e61e15b8-af10-4934-a7d2-d6d3192e2e79",
   "metadata": {},
   "outputs": [],
   "source": [
    "class CatDataset(Dataset):\n",
    "    def __init__(self, image_dir, transform=None):\n",
    "        self.image_paths = glob.glob(os.path.join(image_dir, '**/*.jpg'), recursive=True)\n",
    "        self.transform = transform\n",
    "    \n",
    "    def __len__(self):\n",
    "        return len(self.image_paths)\n",
    "    \n",
    "    def __getitem__(self, idx):\n",
    "        img_path = self.image_paths[idx]\n",
    "        img = Image.open(img_path).convert(\"RGB\")\n",
    "        \n",
    "        annotation_path = img_path + '.cat'\n",
    "        with open(annotation_path, 'r') as f:\n",
    "            annotations = list(map(int, f.readline().split()[1:]))\n",
    "        \n",
    "        original_width, original_height = img.size\n",
    "        target_width, target_height = 64, 64\n",
    "        \n",
    "        # Scale annotations\n",
    "        annotations[0::2] = [x * (target_width / original_width) for x in annotations[0::2]]\n",
    "        annotations[1::2] = [y * (target_height / original_height) for y in annotations[1::2]]\n",
    "        \n",
    "        annotations = torch.tensor(annotations)\n",
    "        \n",
    "        if self.transform:\n",
    "            img = self.transform(img)\n",
    "        \n",
    "        return img, annotations\n",
    "\n",
    "transform = transforms.Compose([\n",
    "    transforms.Resize((64, 64)),\n",
    "    transforms.ToTensor()\n",
    "])"
   ]
  },
  {
   "cell_type": "code",
   "execution_count": 3,
   "id": "e40203f4-b2cd-4cf9-a7ba-8cf12a51f3b2",
   "metadata": {},
   "outputs": [],
   "source": [
    "image_dir = \"C:/Users/osyed/OneDrive/Desktop/AIML Assessment project\"\n",
    "dataset = CatDataset(image_dir, transform=transform)\n",
    "data_loader = DataLoader(dataset, batch_size=32, shuffle=True)"
   ]
  },
  {
   "cell_type": "code",
   "execution_count": 4,
   "id": "8e35a059-a712-4fcd-84a1-d66dae5a764a",
   "metadata": {},
   "outputs": [
    {
     "name": "stdout",
     "output_type": "stream",
     "text": [
      "Sample Image Dimensions (HxW): 64 64\n",
      "Sample Annotations: tensor([23.4375, 24.7166, 27.2500, 24.4347, 25.5625, 27.8179, 20.7500, 21.2394,\n",
      "        19.9375, 14.7548, 22.6875, 17.4802, 27.4375, 16.8223, 29.5000, 13.7210,\n",
      "        29.6875, 20.2056])\n"
     ]
    },
    {
     "data": {
      "image/png": "[encoded data removed]",
      "text/plain": [
       "<Figure size 640x480 with 1 Axes>"
      ]
     },
     "metadata": {},
     "output_type": "display_data"
    }
   ],
   "source": [
    "# Visualize a sample image and its annotations\n",
    "sample_img, sample_annotations = dataset[5]\n",
    "print(\"Sample Image Dimensions (HxW):\", sample_img.shape[1], sample_img.shape[2])\n",
    "print(\"Sample Annotations:\", sample_annotations)\n",
    "plt.imshow(sample_img.permute(1, 2, 0))\n",
    "plt.scatter(sample_annotations[0::2], sample_annotations[1::2], c='red')\n",
    "plt.show()"
   ]
  },
  {
   "cell_type": "code",
   "execution_count": 5,
   "id": "24372ddc-f780-40d9-88e9-917d5354d3ee",
   "metadata": {},
   "outputs": [],
   "source": [
    "class DiffusionModel(nn.Module):\n",
    "    def __init__(self, num_steps=1000):\n",
    "        super().__init__()\n",
    "        self.num_steps = num_steps\n",
    "        self.beta = torch.linspace(1e-4, 0.02, num_steps)\n",
    "        self.alpha = 1 - self.beta\n",
    "        self.alpha_bar = torch.cumprod(self.alpha, dim=0)\n",
    "        \n",
    "        self.unet = nn.Sequential(\n",
    "            nn.Conv2d(6, 64, 3, padding=1),\n",
    "            nn.ReLU(),\n",
    "            nn.Conv2d(64, 128, 4, stride=2, padding=1),\n",
    "            nn.ReLU(),\n",
    "            nn.Conv2d(128, 256, 4, stride=2, padding=1),\n",
    "            nn.ReLU(),\n",
    "            nn.Conv2d(256, 512, 4, stride=2, padding=1),\n",
    "            nn.ReLU(),\n",
    "            nn.ConvTranspose2d(512, 256, 4, stride=2, padding=1),\n",
    "            nn.ReLU(),\n",
    "            nn.ConvTranspose2d(256, 128, 4, stride=2, padding=1),\n",
    "            nn.ReLU(),\n",
    "            nn.ConvTranspose2d(128, 64, 4, stride=2, padding=1),\n",
    "            nn.ReLU(),\n",
    "            nn.Conv2d(64, 3, 3, padding=1)\n",
    "        )\n",
    "    \n",
    "    def forward(self, x, t):\n",
    "        t = t.float() / self.num_steps\n",
    "        t = t.view(-1, 1, 1, 1).repeat(1, 3, 64, 64)\n",
    "        x = torch.cat([x, t], dim=1)\n",
    "        return self.unet(x)\n",
    "\n",
    "    def add_noise(self, x, t):\n",
    "        sqrt_alpha_bar = torch.sqrt(self.alpha_bar[t])\n",
    "        sqrt_one_minus_alpha_bar = torch.sqrt(1 - self.alpha_bar[t])\n",
    "        epsilon = torch.randn_like(x)\n",
    "        return sqrt_alpha_bar.view(-1, 1, 1, 1) * x + sqrt_one_minus_alpha_bar.view(-1, 1, 1, 1) * epsilon, epsilon\n",
    "\n",
    "model = DiffusionModel()  # Remove .cuda()\n",
    "optimizer = optim.Adam(model.parameters(), lr=1e-4)"
   ]
  },
  {
   "cell_type": "code",
   "execution_count": null,
   "id": "cad8d35c-b601-46eb-a70f-6a4cd2dcfb2b",
   "metadata": {},
   "outputs": [
    {
     "name": "stderr",
     "output_type": "stream",
     "text": [
      "Epoch 1/5:  70%|████████████████████████████████████████████████▍                    | 439/625 [38:52<15:40,  5.06s/it]"
     ]
    }
   ],
   "source": [
    "def train(model, dataloader, num_epochs=5):\n",
    "    train_losses = []\n",
    "    val_losses = []\n",
    "\n",
    "    for epoch in range(num_epochs):\n",
    "        model.train()\n",
    "        epoch_loss = 0\n",
    "        \n",
    "        for images, _ in tqdm(dataloader, desc=f\"Epoch {epoch+1}/{num_epochs}\"):\n",
    "            optimizer.zero_grad()\n",
    "            \n",
    "            t = torch.randint(0, model.num_steps, (images.shape[0],))\n",
    "            noisy_images, noise = model.add_noise(images, t)\n",
    "            predicted_noise = model(noisy_images, t)\n",
    "            \n",
    "            loss = nn.MSELoss()(predicted_noise, noise)\n",
    "            loss.backward()\n",
    "            optimizer.step()\n",
    "            \n",
    "            epoch_loss += loss.item()\n",
    "        \n",
    "        avg_loss = epoch_loss / len(dataloader)\n",
    "        train_losses.append(avg_loss)\n",
    "        \n",
    "        # Validation\n",
    "        model.eval()\n",
    "        val_loss = 0\n",
    "        with torch.no_grad():\n",
    "            for images, _ in dataloader:\n",
    "                t = torch.randint(0, model.num_steps, (images.shape[0],))\n",
    "                noisy_images, noise = model.add_noise(images, t)\n",
    "                predicted_noise = model(noisy_images, t)\n",
    "                val_loss += nn.MSELoss()(predicted_noise, noise).item()\n",
    "        \n",
    "        avg_val_loss = val_loss / len(dataloader)\n",
    "        val_losses.append(avg_val_loss)\n",
    "        \n",
    "        print(f\"Epoch {epoch+1}/{num_epochs}, Train Loss: {avg_loss:.4f}, Val Loss: {avg_val_loss:.4f}\")\n",
    "        \n",
    "        # Plot losses\n",
    "        plt.figure(figsize=(10, 5))\n",
    "        plt.plot(train_losses, label='Train Loss')\n",
    "        plt.plot(val_losses, label='Validation Loss')\n",
    "        plt.xlabel('Epoch')\n",
    "        plt.ylabel('Loss')\n",
    "        plt.title('Training and Validation Loss')\n",
    "        plt.legend()\n",
    "        plt.show()\n",
    "\n",
    "    return train_losses, val_losses\n",
    "\n",
    "train_losses, val_losses = train(model, data_loader)"
   ]
  },
  {
   "cell_type": "code",
   "execution_count": null,
   "id": "124cfa3e-3e56-4a74-a76f-6c0c227b5a32",
   "metadata": {},
   "outputs": [],
   "source": [
    "@torch.no_grad()\n",
    "def generate_image(model):\n",
    "    device = torch.device(\"cuda\" if torch.cuda.is_available() else \"cpu\")\n",
    "    model.to(device)\n",
    "    model.eval()\n",
    "    x = torch.randn(1, 3, 64, 64, device=device)\n",
    "    \n",
    "    for t in reversed(range(model.num_steps)):\n",
    "        t_tensor = torch.full((1,), t, dtype=torch.long, device=device)\n",
    "        predicted_noise = model(x, t_tensor)\n",
    "        alpha_t = model.alpha[t]\n",
    "        alpha_bar_t = model.alpha_bar[t]\n",
    "        beta_t = model.beta[t]\n",
    "        \n",
    "        if t > 0:\n",
    "            noise = torch.randn_like(x)\n",
    "        else:\n",
    "            noise = torch.zeros_like(x)\n",
    "        \n",
    "        x = (1 / torch.sqrt(alpha_t)) * (x - ((1 - alpha_t) / torch.sqrt(1 - alpha_bar_t)) * predicted_noise) + torch.sqrt(beta_t) * noise\n",
    "    \n",
    "    x = (x.clamp(-1, 1) + 1) / 2\n",
    "    x = x.cpu().squeeze().permute(1, 2, 0).numpy()\n",
    "    \n",
    "    plt.imshow(x)\n",
    "    plt.axis('off')\n",
    "    plt.show()\n",
    "\n",
    "# Generate an image\n",
    "generate_image(model)"
   ]
  },
  {
   "cell_type": "code",
   "execution_count": null,
   "id": "5f74749b-cfc6-4f7c-a939-46b79d11c47d",
   "metadata": {},
   "outputs": [],
   "source": []
  },
  {
   "cell_type": "code",
   "execution_count": null,
   "id": "71902cd7-f900-4263-b379-f0c1b920e96c",
   "metadata": {},
   "outputs": [],
   "source": []
  },
  {
   "cell_type": "code",
   "execution_count": null,
   "id": "357e2137-14a5-40be-9d61-74d78cb88a12",
   "metadata": {},
   "outputs": [],
   "source": []
  },
  {
   "cell_type": "code",
   "execution_count": null,
   "id": "f0b0e887-c811-4ab8-b63c-9f62cda59190",
   "metadata": {},
   "outputs": [],
   "source": []
  },
  {
   "cell_type": "code",
   "execution_count": null,
   "id": "905048a2-86ff-45d0-acbc-22d5b4ba50e5",
   "metadata": {},
   "outputs": [],
   "source": []
  }
 ],
 "metadata": {
  "kernelspec": {
   "display_name": "Python 3 (ipykernel)",
   "language": "python",
   "name": "python3"
  },
  "language_info": {
   "codemirror_mode": {
    "name": "ipython",
    "version": 3
   },
   "file_extension": ".py",
   "mimetype": "text/x-python",
   "name": "python",
   "nbconvert_exporter": "python",
   "pygments_lexer": "ipython3",
   "version": "3.11.7"
  }
 },
 "nbformat": 4,
 "nbformat_minor": 5
}
